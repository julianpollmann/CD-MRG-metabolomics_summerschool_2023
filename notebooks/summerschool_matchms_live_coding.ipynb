{
 "cells": [
  {
   "cell_type": "markdown",
   "id": "a319e432",
   "metadata": {
    "id": "a319e432"
   },
   "source": [
    "# Introduction to matchms\n",
    "\n",
    "`matchms` is an open-source Python library to handle, process, and compare MS/MS spectra. It is particularly geared towards large-scale similarity computations. In addition, matchms is intended to serve as a hub for developing new computational tools on top of it.\n",
    "\n",
    "Some tools which are build on top of matchms:\n",
    "\n",
    "+ [`Spec2Vec`](https://github.com/iomega/spec2vec) an alternative machine-learning spectral similarity score that can simply be installed by `pip install spec2vec` and be imported as `from spec2vec import Spec2Vec` following the same API as the scores in `matchms.similarity`.\n",
    "\n",
    "+ [`MS2DeepScore`](https://github.com/matchms/ms2deepscore) a supervised, deep-learning based spectral similarity score that can simply be installed by `pip install ms2deepscore` and be imported as `from ms2deepscore import MS2DeepScore` following the same API as the scores in `matchms.similarity`.\n",
    "\n",
    "+ [`MS2Query`](https://github.com/iomega/ms2query) Reliable and fast MS/MS spectral-based analogue search, running on top of matchms.\n",
    "\n",
    "+ [`memo`](https://github.com/mandelbrot-project/memo) a method allowing a Retention Time (RT) agnostic alignment of metabolomics samples using the fragmentation spectra (MS2) of their constituents.\n",
    "\n",
    "The source code of `matchms` is on GitHub --> https://github.com/matchms/matchms\n",
    "This is also where you can interact with the developers of the tool (e.g., report problems, suggest new features, or: contribute yourself!)."
   ]
  },
  {
   "cell_type": "code",
   "execution_count": null,
   "id": "b6610a78",
   "metadata": {
    "id": "b6610a78"
   },
   "outputs": [],
   "source": [
    "# matchms is preinstalled in this Colab environment, but if you want to run this notebook on your own computer, you can install it via pip:\n",
    "#!pip install matchms"
   ]
  },
  {
   "cell_type": "markdown",
   "id": "2863abb1",
   "metadata": {
    "id": "2863abb1"
   },
   "source": [
    "# Import libraries"
   ]
  },
  {
   "cell_type": "code",
   "execution_count": 1,
   "id": "08aaf2cf",
   "metadata": {
    "id": "08aaf2cf"
   },
   "outputs": [],
   "source": [
    "import os\n",
    "from matplotlib import pyplot as plt\n",
    "\n",
    "from matchms import calculate_scores\n",
    "from matchms.importing import load_from_mgf"
   ]
  },
  {
   "cell_type": "markdown",
   "id": "711ee651",
   "metadata": {
    "id": "711ee651"
   },
   "source": [
    "## Import data\n",
    "`matchms` can import and export MS/MS spectra from/to a few common formats such as .mgf, .msp, .mzxml, .json. Here we will simply import the example data as it came straight from MzMine.\n",
    "\n",
    "The following code assumes that you copied the sumerschool2023_matchms folder to your own Google Drive. Please adapt the path accordingly if you have the files elsewhere."
   ]
  },
  {
   "cell_type": "code",
   "execution_count": null,
   "id": "xncZgLFMSEe7",
   "metadata": {
    "id": "xncZgLFMSEe7"
   },
   "outputs": [],
   "source": [
    "# Use this to mount your own google drive\n",
    "#from google.colab import drive\n",
    "#drive.mount('/content/drive')"
   ]
  },
  {
   "cell_type": "code",
   "execution_count": 2,
   "id": "8a631a7a",
   "metadata": {
    "id": "8a631a7a"
   },
   "outputs": [],
   "source": [
    "# Specify data (and model) locations\n",
    "#path_root = \"./drive/MyDrive/matchms/summerschool2023_matchms\"\n",
    "#file = os.path.join(path_root, \"data_mzmine\", \"example_iimn_gnps.mgf\")\n",
    "path_root = os.path.join(\"..\")\n",
    "file = os.path.join(path_root, \"data\", \"mzmine_output\", \"Example\", \"example_sirius.mgf\")\n",
    "\n",
    "# Import spectra\n",
    "spectra = list(load_from_mgf(file))"
   ]
  },
  {
   "cell_type": "markdown",
   "id": "248f4ccf",
   "metadata": {
    "id": "248f4ccf"
   },
   "source": [
    "## What do we get from this?\n",
    "Let's have a look at what the spectra now look like within matchms."
   ]
  },
  {
   "cell_type": "code",
   "execution_count": 3,
   "id": "4801d2fc",
   "metadata": {
    "id": "4801d2fc"
   },
   "outputs": [
    {
     "data": {
      "text/plain": [
       "73857"
      ]
     },
     "execution_count": 3,
     "metadata": {},
     "output_type": "execute_result"
    }
   ],
   "source": [
    "len(spectra)"
   ]
  },
  {
   "cell_type": "code",
   "execution_count": 4,
   "id": "7909c141",
   "metadata": {
    "id": "7909c141"
   },
   "outputs": [
    {
     "data": {
      "text/plain": [
       "list"
      ]
     },
     "execution_count": 4,
     "metadata": {},
     "output_type": "execute_result"
    }
   ],
   "source": [
    "type(spectra)"
   ]
  },
  {
   "cell_type": "code",
   "execution_count": 5,
   "id": "ee441235",
   "metadata": {
    "id": "ee441235"
   },
   "outputs": [
    {
     "data": {
      "text/plain": [
       "Spectrum(precursor m/z=503.14, 1 fragments between 341.1 and 341.1)"
      ]
     },
     "execution_count": 5,
     "metadata": {},
     "output_type": "execute_result"
    }
   ],
   "source": [
    "spectra[1]"
   ]
  },
  {
   "cell_type": "markdown",
   "id": "a7dcc76e",
   "metadata": {
    "id": "a7dcc76e"
   },
   "source": [
    "## matchms `Spectrum` objects\n",
    "In `matchms` each MS/MS spectrum is handled as a `Spectrum` object.\n",
    "\n",
    "- contains the MS/MS fragments --> `spectrum.peaks`  \n",
    "For instance for the 10th spectrum in our list this would be `spectra[9].peaks`.   \n",
    "The fragments are divided into m/z positions --> `spectrum.peaks.mz`  \n",
    "and intensities --> `spectrum.peaks.intensities`\n",
    "- contains the metadata --> `spectrum.metadata`\n",
    "\n",
    "It also comes with basic functions (methods) to inspect or edit parts of the spectrum.\n",
    "- basic plotting --> `spectrum.plot()`\n",
    "- read metadata fields --> `spectrum.get(\"charge\")`\n",
    "- set metadata fields --> `spectrum.get(\"special_comments\", \"Nice!\")`"
   ]
  },
  {
   "cell_type": "markdown",
   "id": "ab6ee52a",
   "metadata": {
    "id": "ab6ee52a"
   },
   "source": [
    "### Mini-Exercise:\n",
    "- How many fragments/peaks has the first spectrum in our list?\n",
    "- What is the highest fragement m/z?\n",
    "- Use the `.set()` method to add a \"note_to_supervisor\" field to the metadata and write into this field whatever you like (your superviser is likely to never read it...)\n",
    "- Check if you indeed added the note by using the `.get()` method."
   ]
  },
  {
   "cell_type": "code",
   "execution_count": null,
   "id": "86a3e252",
   "metadata": {
    "id": "86a3e252"
   },
   "outputs": [],
   "source": []
  },
  {
   "cell_type": "code",
   "execution_count": null,
   "id": "fc738e93",
   "metadata": {
    "id": "fc738e93"
   },
   "outputs": [],
   "source": []
  },
  {
   "cell_type": "code",
   "execution_count": null,
   "id": "80596771",
   "metadata": {
    "id": "80596771"
   },
   "outputs": [],
   "source": []
  },
  {
   "cell_type": "code",
   "execution_count": null,
   "id": "d59aceb9",
   "metadata": {
    "id": "d59aceb9"
   },
   "outputs": [],
   "source": []
  },
  {
   "cell_type": "markdown",
   "id": "7FlCYQ8TVkLc",
   "metadata": {
    "id": "7FlCYQ8TVkLc"
   },
   "source": [
    "### Plot a histogram of the number of fragments per spectrum"
   ]
  },
  {
   "cell_type": "code",
   "execution_count": 6,
   "id": "d98acfcb",
   "metadata": {
    "id": "d98acfcb"
   },
   "outputs": [
    {
     "data": {
      "image/png": "[encoded data removed]",
      "text/plain": [
       "<Figure size 800x300 with 1 Axes>"
      ]
     },
     "metadata": {},
     "output_type": "display_data"
    }
   ],
   "source": [
    "number_of_peaks = [len(s.peaks) for s in spectra]\n",
    "\n",
    "fig, ax = plt.subplots(figsize=(8, 3))\n",
    "ax.hist(number_of_peaks, bins=50, rwidth=0.8)\n",
    "ax.set_ylabel(\"counts\")\n",
    "ax.set_xlabel(\"number of peaks\")\n",
    "plt.show()"
   ]
  },
  {
   "cell_type": "markdown",
   "id": "ca1d570c",
   "metadata": {
    "id": "ca1d570c"
   },
   "source": [
    "## Process spectra\n",
    "\n",
    "`matchms` comes with many filtering functions (in `matchms.filtering`). Even better: If you want something very specific or novel, you can also build your own filters. And even better yet: you could become a co-developer of matchms and add a filter you miss to the library!\n",
    "\n",
    "In general, there are two types of filters: Filters with focus on the **metadata** and for **fragments**. Metadata filters can be used to correct, add to or edit specific metadata fields, and to harmonize them. In addition there are filters for the **fragments**, for instance to remove small peaks, normalize peak intensities etc.\n",
    "\n",
    "From matchms 0.22 on, the central element to apply filters is the `SpectrumProcessor`.\n",
    "Some filters allow advanced configuration by passing a dict with options and corresponding values.\n",
    "\n",
    "### Mini-Exercise:\n",
    "Here, we want to apply:\n",
    "- A few default filters to harmonize metadata\n",
    "- Normalize peak intensities (to max=1.0)\n",
    "- Remove all peaks outside 10.0 to 1000.0 Da m/z window\n",
    "- Remove spectra with < 4 remaining peaks\n",
    "\n",
    "The last two teps are potentially important for tools like `Spec2Vec` or `MS2DeepScore` which make predictions solely based on the MS2 peaks."
   ]
  },
  {
   "metadata": {},
   "cell_type": "code",
   "outputs": [],
   "execution_count": null,
   "source": [
    "from matchms import SpectrumProcessor\n",
    "from matchms.filtering.default_pipelines import BASIC_FILTERS\n",
    "\n",
    "min_number_peaks = # add your code here\n",
    "\n",
    "# Define filter pipeline\n",
    "processor = SpectrumProcessor(BASIC_FILTERS)\n",
    "processor.parse_and_add_filter(\"normalize_intensities\")\n",
    "processor.parse_and_add_filter((\"select_by_mz\", {\"mz_from\": # add your code here, \"mz_to\": # add your code here}))\n",
    "processor.parse_and_add_filter((\"require_minimum_number_of_peaks\", {\"n_required\": min_number_peaks}))\n",
    "\n",
    "# Apply filter pipeline\n",
    "# process_spectrum will return a tuple of spectra_cleaned and a processing_report\n",
    "spectra_cleaned, _ = processor.process_spectra(spectra)\n",
    "print(f\"Number of remaining spectra: {len(spectra_cleaned)}\")"
   ],
   "id": "b6e5402e040440d7"
  },
  {
   "metadata": {},
   "cell_type": "code",
   "outputs": [],
   "execution_count": null,
   "source": [
    "import numpy as np\n",
    "\n",
    "bins = np.arange(0, 40, 1)\n",
    "\n",
    "# Create 2 sub-plots\n",
    "fig, (ax1, ax2) = plt.subplots(2, figsize=(12, 7))\n",
    "ax1.hist([len(s.peaks) for s in spectra], bins=bins, rwidth=0.8)\n",
    "ax1.set_title(\"before filtering\")\n",
    "ax1.set_ylabel(\"counts\")\n",
    "ax2.hist([len(s.peaks) for s in spectra_cleaned], bins=bins, rwidth=0.8)\n",
    "ax2.set_title(\"after filtering\")\n",
    "ax2.set_ylabel(\"counts\")\n",
    "ax2.set_xlabel(\"number of peaks in spectrum\")\n",
    "plt.show()"
   ],
   "id": "da627f66bcc91c70"
  },
  {
   "cell_type": "code",
   "execution_count": null,
   "id": "3c077af6",
   "metadata": {
    "id": "3c077af6",
    "scrolled": true
   },
   "outputs": [],
   "source": [
    "spectra_cleaned[0].metadata"
   ]
  },
  {
   "cell_type": "code",
   "execution_count": null,
   "id": "5f9eb771",
   "metadata": {
    "id": "5f9eb771"
   },
   "outputs": [],
   "source": [
    "# Write a small script to add the ionmode"
   ]
  },
  {
   "cell_type": "markdown",
   "id": "221aea42",
   "metadata": {
    "id": "221aea42"
   },
   "source": [
    "## Basic plotting (only for quick inspection)"
   ]
  },
  {
   "cell_type": "code",
   "execution_count": null,
   "id": "46805d5a",
   "metadata": {
    "id": "46805d5a"
   },
   "outputs": [],
   "source": [
    "spectra_cleaned[0].plot()"
   ]
  },
  {
   "cell_type": "code",
   "execution_count": null,
   "id": "7e558c4f",
   "metadata": {
    "id": "7e558c4f"
   },
   "outputs": [],
   "source": [
    "spectra_cleaned[0].plot_against(spectra_cleaned[151])"
   ]
  },
  {
   "cell_type": "code",
   "execution_count": null,
   "id": "dd0f01dc",
   "metadata": {
    "id": "dd0f01dc"
   },
   "outputs": [],
   "source": [
    "from matchms.plotting import plot_spectra_array\n",
    "\n",
    "plot_spectra_array(spectra_cleaned[:9], 3)\n",
    "plt.show()"
   ]
  },
  {
   "cell_type": "markdown",
   "id": "6d44f92b",
   "metadata": {
    "id": "6d44f92b"
   },
   "source": [
    "## Spectrum similarity computation\n",
    "\n",
    "Matchms comes with several spectrm similarity scores such as:\n",
    "- Cosine (`CosineGreedy`)\n",
    "- Modified Cosine (`ModifiedCosine`)\n",
    "- Molecular fingerprint based scoring (`FingerprintSimilarity`)\n",
    "- Precursor m/z matching (`PrecursorMzMatch`)\n",
    "\n",
    "A core feature, however, is that you can also build (program) your own similarity measures or import other compatible ones (for instance: `Spec2Vec` or `MS2DeepScore`)."
   ]
  },
  {
   "cell_type": "code",
   "execution_count": null,
   "id": "b401da41",
   "metadata": {
    "id": "b401da41"
   },
   "outputs": [],
   "source": [
    "from matchms.similarity import PrecursorMzMatch, CosineGreedy\n",
    "\n",
    "similarity_measure = PrecursorMzMatch(tolerance= # set on your own,\n",
    "                                      tolerance_type=\"Dalton\")  # alternative would be \"ppm\"\n",
    "scores = calculate_scores(spectra_cleaned, spectra_cleaned, similarity_measure)\n",
    "scores"
   ]
  },
  {
   "cell_type": "code",
   "execution_count": null,
   "id": "1d64a1b2",
   "metadata": {
    "id": "1d64a1b2"
   },
   "outputs": [],
   "source": [
    "# what is this number for?\n",
    "3802 ** 2"
   ]
  },
  {
   "cell_type": "code",
   "execution_count": null,
   "id": "751a5d38",
   "metadata": {
    "id": "751a5d38"
   },
   "outputs": [],
   "source": []
  },
  {
   "cell_type": "code",
   "execution_count": null,
   "id": "bcc1657a",
   "metadata": {
    "id": "bcc1657a"
   },
   "outputs": [],
   "source": [
    "# Let's compute the Cosine score for all pairs which have a precursor match"
   ]
  },
  {
   "cell_type": "code",
   "execution_count": null,
   "id": "476243cf",
   "metadata": {
    "id": "476243cf"
   },
   "outputs": [],
   "source": []
  },
  {
   "cell_type": "code",
   "execution_count": null,
   "id": "76e95458",
   "metadata": {
    "id": "76e95458"
   },
   "outputs": [],
   "source": []
  },
  {
   "cell_type": "markdown",
   "id": "muYWtb3peX0M",
   "metadata": {
    "id": "muYWtb3peX0M"
   },
   "source": [
    "### Inspect results"
   ]
  },
  {
   "cell_type": "code",
   "execution_count": null,
   "id": "7dd91113",
   "metadata": {
    "id": "7dd91113"
   },
   "outputs": [],
   "source": [
    "results = scores.scores_by_query(spectra_cleaned[2], \"CosineGreedy_score\", sort=True)\n",
    "results"
   ]
  },
  {
   "cell_type": "markdown",
   "id": "0448a863",
   "metadata": {
    "id": "0448a863"
   },
   "source": [
    "### Remove scores below threshold"
   ]
  },
  {
   "cell_type": "code",
   "execution_count": null,
   "id": "b9fae355",
   "metadata": {
    "id": "b9fae355"
   },
   "outputs": [],
   "source": [
    "scores.filter_by_range(name=\"CosineGreedy_score\",\n",
    "                       low= 0.7)"
   ]
  },
  {
   "cell_type": "code",
   "execution_count": null,
   "id": "b0023fe7",
   "metadata": {
    "id": "b0023fe7"
   },
   "outputs": [],
   "source": []
  },
  {
   "cell_type": "markdown",
   "id": "3Vdq-DR0erHd",
   "metadata": {
    "id": "3Vdq-DR0erHd"
   },
   "source": [
    "### Inspect the results again"
   ]
  },
  {
   "cell_type": "code",
   "execution_count": null,
   "id": "c389cf79",
   "metadata": {
    "id": "c389cf79"
   },
   "outputs": [],
   "source": [
    "results = scores.scores_by_query(spectra_cleaned[# pick your number],\n",
    "                                 'CosineGreedy_score', sort=True)\n",
    "results"
   ]
  },
  {
   "cell_type": "code",
   "execution_count": null,
   "id": "7620d283",
   "metadata": {
    "id": "7620d283"
   },
   "outputs": [],
   "source": [
    "spectra_cleaned[1].plot_against(results[2][0])"
   ]
  },
  {
   "cell_type": "code",
   "execution_count": null,
   "id": "a8fce736",
   "metadata": {
    "id": "a8fce736"
   },
   "outputs": [],
   "source": [
    "results = scores.scores_by_query(spectra_cleaned[# pick your number], 'CosineGreedy_score', sort=True)\n",
    "plot_spectra_array([x[0] for x in results[:8]])"
   ]
  },
  {
   "cell_type": "code",
   "execution_count": null,
   "id": "f05d0a5f",
   "metadata": {
    "id": "f05d0a5f"
   },
   "outputs": [],
   "source": []
  }
 ],
 "metadata": {
  "colab": {
   "provenance": [
    {
     "file_id": "1hCJVxfG5tQ6Gw36Gcu1Sqb7fwT5tmYCA",
     "timestamp": 1692776135566
    }
   ]
  },
  "kernelspec": {
   "display_name": "Python 3 (ipykernel)",
   "language": "python",
   "name": "python3"
  },
  "language_info": {
   "codemirror_mode": {
    "name": "ipython",
    "version": 3
   },
   "file_extension": ".py",
   "mimetype": "text/x-python",
   "name": "python",
   "nbconvert_exporter": "python",
   "pygments_lexer": "ipython3",
   "version": "3.12.9"
  }
 },
 "nbformat": 4,
 "nbformat_minor": 5
}
